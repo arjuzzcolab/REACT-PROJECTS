{
  "cells": [
    {
      "cell_type": "markdown",
      "metadata": {
        "id": "view-in-github",
        "colab_type": "text"
      },
      "source": [
        "<a href=\"https://colab.research.google.com/github/arjuzzcolab/REACT-PROJECTS/blob/main/test_final_combined_model.ipynb\" target=\"_parent\"><img src=\"https://colab.research.google.com/assets/colab-badge.svg\" alt=\"Open In Colab\"/></a>"
      ]
    },
    {
      "cell_type": "code",
      "execution_count": null,
      "metadata": {
        "colab": {
          "base_uri": "https://localhost:8080/",
          "height": 408
        },
        "id": "rTBHVPZDFrnA",
        "outputId": "4de27d17-f9ae-4df3-8779-790a6d0bacfb"
      },
      "outputs": [
        {
          "ename": "KeyboardInterrupt",
          "evalue": "",
          "output_type": "error",
          "traceback": [
            "\u001b[0;31m---------------------------------------------------------------------------\u001b[0m",
            "\u001b[0;31mEmpty\u001b[0m                                     Traceback (most recent call last)",
            "\u001b[0;32m/usr/lib/python3.10/queue.py\u001b[0m in \u001b[0;36mget\u001b[0;34m(self, block, timeout)\u001b[0m\n\u001b[1;32m    167\u001b[0m                 \u001b[0;32mif\u001b[0m \u001b[0;32mnot\u001b[0m \u001b[0mself\u001b[0m\u001b[0;34m.\u001b[0m\u001b[0m_qsize\u001b[0m\u001b[0;34m(\u001b[0m\u001b[0;34m)\u001b[0m\u001b[0;34m:\u001b[0m\u001b[0;34m\u001b[0m\u001b[0;34m\u001b[0m\u001b[0m\n\u001b[0;32m--> 168\u001b[0;31m                     \u001b[0;32mraise\u001b[0m \u001b[0mEmpty\u001b[0m\u001b[0;34m\u001b[0m\u001b[0;34m\u001b[0m\u001b[0m\n\u001b[0m\u001b[1;32m    169\u001b[0m             \u001b[0;32melif\u001b[0m \u001b[0mtimeout\u001b[0m \u001b[0;32mis\u001b[0m \u001b[0;32mNone\u001b[0m\u001b[0;34m:\u001b[0m\u001b[0;34m\u001b[0m\u001b[0;34m\u001b[0m\u001b[0m\n",
            "\u001b[0;31mEmpty\u001b[0m: ",
            "\nDuring handling of the above exception, another exception occurred:\n",
            "\u001b[0;31mKeyboardInterrupt\u001b[0m                         Traceback (most recent call last)",
            "\u001b[0;32m<ipython-input-1-d5df0069828e>\u001b[0m in \u001b[0;36m<cell line: 2>\u001b[0;34m()\u001b[0m\n\u001b[1;32m      1\u001b[0m \u001b[0;32mfrom\u001b[0m \u001b[0mgoogle\u001b[0m\u001b[0;34m.\u001b[0m\u001b[0mcolab\u001b[0m \u001b[0;32mimport\u001b[0m \u001b[0mdrive\u001b[0m\u001b[0;34m\u001b[0m\u001b[0;34m\u001b[0m\u001b[0m\n\u001b[0;32m----> 2\u001b[0;31m \u001b[0mdrive\u001b[0m\u001b[0;34m.\u001b[0m\u001b[0mmount\u001b[0m\u001b[0;34m(\u001b[0m\u001b[0;34m'/content/drive'\u001b[0m\u001b[0;34m)\u001b[0m\u001b[0;34m\u001b[0m\u001b[0;34m\u001b[0m\u001b[0m\n\u001b[0m",
            "\u001b[0;32m/usr/local/lib/python3.10/dist-packages/google/colab/drive.py\u001b[0m in \u001b[0;36mmount\u001b[0;34m(mountpoint, force_remount, timeout_ms, readonly)\u001b[0m\n\u001b[1;32m     98\u001b[0m \u001b[0;32mdef\u001b[0m \u001b[0mmount\u001b[0m\u001b[0;34m(\u001b[0m\u001b[0mmountpoint\u001b[0m\u001b[0;34m,\u001b[0m \u001b[0mforce_remount\u001b[0m\u001b[0;34m=\u001b[0m\u001b[0;32mFalse\u001b[0m\u001b[0;34m,\u001b[0m \u001b[0mtimeout_ms\u001b[0m\u001b[0;34m=\u001b[0m\u001b[0;36m120000\u001b[0m\u001b[0;34m,\u001b[0m \u001b[0mreadonly\u001b[0m\u001b[0;34m=\u001b[0m\u001b[0;32mFalse\u001b[0m\u001b[0;34m)\u001b[0m\u001b[0;34m:\u001b[0m\u001b[0;34m\u001b[0m\u001b[0;34m\u001b[0m\u001b[0m\n\u001b[1;32m     99\u001b[0m   \u001b[0;34m\"\"\"Mount your Google Drive at the specified mountpoint path.\"\"\"\u001b[0m\u001b[0;34m\u001b[0m\u001b[0;34m\u001b[0m\u001b[0m\n\u001b[0;32m--> 100\u001b[0;31m   return _mount(\n\u001b[0m\u001b[1;32m    101\u001b[0m       \u001b[0mmountpoint\u001b[0m\u001b[0;34m,\u001b[0m\u001b[0;34m\u001b[0m\u001b[0;34m\u001b[0m\u001b[0m\n\u001b[1;32m    102\u001b[0m       \u001b[0mforce_remount\u001b[0m\u001b[0;34m=\u001b[0m\u001b[0mforce_remount\u001b[0m\u001b[0;34m,\u001b[0m\u001b[0;34m\u001b[0m\u001b[0;34m\u001b[0m\u001b[0m\n",
            "\u001b[0;32m/usr/local/lib/python3.10/dist-packages/google/colab/drive.py\u001b[0m in \u001b[0;36m_mount\u001b[0;34m(mountpoint, force_remount, timeout_ms, ephemeral, readonly)\u001b[0m\n\u001b[1;32m    258\u001b[0m \u001b[0;34m\u001b[0m\u001b[0m\n\u001b[1;32m    259\u001b[0m   \u001b[0;32mwhile\u001b[0m \u001b[0;32mTrue\u001b[0m\u001b[0;34m:\u001b[0m\u001b[0;34m\u001b[0m\u001b[0;34m\u001b[0m\u001b[0m\n\u001b[0;32m--> 260\u001b[0;31m     case = d.expect([\n\u001b[0m\u001b[1;32m    261\u001b[0m         \u001b[0msuccess\u001b[0m\u001b[0;34m,\u001b[0m\u001b[0;34m\u001b[0m\u001b[0;34m\u001b[0m\u001b[0m\n\u001b[1;32m    262\u001b[0m         \u001b[0mprompt\u001b[0m\u001b[0;34m,\u001b[0m\u001b[0;34m\u001b[0m\u001b[0;34m\u001b[0m\u001b[0m\n",
            "\u001b[0;32m/usr/local/lib/python3.10/dist-packages/pexpect/spawnbase.py\u001b[0m in \u001b[0;36mexpect\u001b[0;34m(self, pattern, timeout, searchwindowsize, async_, **kw)\u001b[0m\n\u001b[1;32m    352\u001b[0m \u001b[0;34m\u001b[0m\u001b[0m\n\u001b[1;32m    353\u001b[0m         \u001b[0mcompiled_pattern_list\u001b[0m \u001b[0;34m=\u001b[0m \u001b[0mself\u001b[0m\u001b[0;34m.\u001b[0m\u001b[0mcompile_pattern_list\u001b[0m\u001b[0;34m(\u001b[0m\u001b[0mpattern\u001b[0m\u001b[0;34m)\u001b[0m\u001b[0;34m\u001b[0m\u001b[0;34m\u001b[0m\u001b[0m\n\u001b[0;32m--> 354\u001b[0;31m         return self.expect_list(compiled_pattern_list,\n\u001b[0m\u001b[1;32m    355\u001b[0m                 timeout, searchwindowsize, async_)\n\u001b[1;32m    356\u001b[0m \u001b[0;34m\u001b[0m\u001b[0m\n",
            "\u001b[0;32m/usr/local/lib/python3.10/dist-packages/pexpect/spawnbase.py\u001b[0m in \u001b[0;36mexpect_list\u001b[0;34m(self, pattern_list, timeout, searchwindowsize, async_, **kw)\u001b[0m\n\u001b[1;32m    381\u001b[0m             \u001b[0;32mreturn\u001b[0m \u001b[0mexpect_async\u001b[0m\u001b[0;34m(\u001b[0m\u001b[0mexp\u001b[0m\u001b[0;34m,\u001b[0m \u001b[0mtimeout\u001b[0m\u001b[0;34m)\u001b[0m\u001b[0;34m\u001b[0m\u001b[0;34m\u001b[0m\u001b[0m\n\u001b[1;32m    382\u001b[0m         \u001b[0;32melse\u001b[0m\u001b[0;34m:\u001b[0m\u001b[0;34m\u001b[0m\u001b[0;34m\u001b[0m\u001b[0m\n\u001b[0;32m--> 383\u001b[0;31m             \u001b[0;32mreturn\u001b[0m \u001b[0mexp\u001b[0m\u001b[0;34m.\u001b[0m\u001b[0mexpect_loop\u001b[0m\u001b[0;34m(\u001b[0m\u001b[0mtimeout\u001b[0m\u001b[0;34m)\u001b[0m\u001b[0;34m\u001b[0m\u001b[0;34m\u001b[0m\u001b[0m\n\u001b[0m\u001b[1;32m    384\u001b[0m \u001b[0;34m\u001b[0m\u001b[0m\n\u001b[1;32m    385\u001b[0m     def expect_exact(self, pattern_list, timeout=-1, searchwindowsize=-1,\n",
            "\u001b[0;32m/usr/local/lib/python3.10/dist-packages/pexpect/expect.py\u001b[0m in \u001b[0;36mexpect_loop\u001b[0;34m(self, timeout)\u001b[0m\n\u001b[1;32m    167\u001b[0m                     \u001b[0;32mreturn\u001b[0m \u001b[0mself\u001b[0m\u001b[0;34m.\u001b[0m\u001b[0mtimeout\u001b[0m\u001b[0;34m(\u001b[0m\u001b[0;34m)\u001b[0m\u001b[0;34m\u001b[0m\u001b[0;34m\u001b[0m\u001b[0m\n\u001b[1;32m    168\u001b[0m                 \u001b[0;31m# Still have time left, so read more data\u001b[0m\u001b[0;34m\u001b[0m\u001b[0;34m\u001b[0m\u001b[0m\n\u001b[0;32m--> 169\u001b[0;31m                 \u001b[0mincoming\u001b[0m \u001b[0;34m=\u001b[0m \u001b[0mspawn\u001b[0m\u001b[0;34m.\u001b[0m\u001b[0mread_nonblocking\u001b[0m\u001b[0;34m(\u001b[0m\u001b[0mspawn\u001b[0m\u001b[0;34m.\u001b[0m\u001b[0mmaxread\u001b[0m\u001b[0;34m,\u001b[0m \u001b[0mtimeout\u001b[0m\u001b[0;34m)\u001b[0m\u001b[0;34m\u001b[0m\u001b[0;34m\u001b[0m\u001b[0m\n\u001b[0m\u001b[1;32m    170\u001b[0m                 \u001b[0;32mif\u001b[0m \u001b[0mself\u001b[0m\u001b[0;34m.\u001b[0m\u001b[0mspawn\u001b[0m\u001b[0;34m.\u001b[0m\u001b[0mdelayafterread\u001b[0m \u001b[0;32mis\u001b[0m \u001b[0;32mnot\u001b[0m \u001b[0;32mNone\u001b[0m\u001b[0;34m:\u001b[0m\u001b[0;34m\u001b[0m\u001b[0;34m\u001b[0m\u001b[0m\n\u001b[1;32m    171\u001b[0m                     \u001b[0mtime\u001b[0m\u001b[0;34m.\u001b[0m\u001b[0msleep\u001b[0m\u001b[0;34m(\u001b[0m\u001b[0mself\u001b[0m\u001b[0;34m.\u001b[0m\u001b[0mspawn\u001b[0m\u001b[0;34m.\u001b[0m\u001b[0mdelayafterread\u001b[0m\u001b[0;34m)\u001b[0m\u001b[0;34m\u001b[0m\u001b[0;34m\u001b[0m\u001b[0m\n",
            "\u001b[0;32m/usr/local/lib/python3.10/dist-packages/pexpect/popen_spawn.py\u001b[0m in \u001b[0;36mread_nonblocking\u001b[0;34m(self, size, timeout)\u001b[0m\n\u001b[1;32m     83\u001b[0m         \u001b[0;32mwhile\u001b[0m \u001b[0;34m(\u001b[0m\u001b[0mtime\u001b[0m\u001b[0;34m.\u001b[0m\u001b[0mtime\u001b[0m\u001b[0;34m(\u001b[0m\u001b[0;34m)\u001b[0m \u001b[0;34m-\u001b[0m \u001b[0mt0\u001b[0m\u001b[0;34m)\u001b[0m \u001b[0;34m<\u001b[0m \u001b[0mtimeout\u001b[0m \u001b[0;32mand\u001b[0m \u001b[0msize\u001b[0m \u001b[0;32mand\u001b[0m \u001b[0mlen\u001b[0m\u001b[0;34m(\u001b[0m\u001b[0mbuf\u001b[0m\u001b[0;34m)\u001b[0m \u001b[0;34m<\u001b[0m \u001b[0msize\u001b[0m\u001b[0;34m:\u001b[0m\u001b[0;34m\u001b[0m\u001b[0;34m\u001b[0m\u001b[0m\n\u001b[1;32m     84\u001b[0m             \u001b[0;32mtry\u001b[0m\u001b[0;34m:\u001b[0m\u001b[0;34m\u001b[0m\u001b[0;34m\u001b[0m\u001b[0m\n\u001b[0;32m---> 85\u001b[0;31m                 \u001b[0mincoming\u001b[0m \u001b[0;34m=\u001b[0m \u001b[0mself\u001b[0m\u001b[0;34m.\u001b[0m\u001b[0m_read_queue\u001b[0m\u001b[0;34m.\u001b[0m\u001b[0mget_nowait\u001b[0m\u001b[0;34m(\u001b[0m\u001b[0;34m)\u001b[0m\u001b[0;34m\u001b[0m\u001b[0;34m\u001b[0m\u001b[0m\n\u001b[0m\u001b[1;32m     86\u001b[0m             \u001b[0;32mexcept\u001b[0m \u001b[0mEmpty\u001b[0m\u001b[0;34m:\u001b[0m\u001b[0;34m\u001b[0m\u001b[0;34m\u001b[0m\u001b[0m\n\u001b[1;32m     87\u001b[0m                 \u001b[0;32mbreak\u001b[0m\u001b[0;34m\u001b[0m\u001b[0;34m\u001b[0m\u001b[0m\n",
            "\u001b[0;32m/usr/lib/python3.10/queue.py\u001b[0m in \u001b[0;36mget_nowait\u001b[0;34m(self)\u001b[0m\n\u001b[1;32m    197\u001b[0m         \u001b[0;32mraise\u001b[0m \u001b[0mthe\u001b[0m \u001b[0mEmpty\u001b[0m \u001b[0mexception\u001b[0m\u001b[0;34m.\u001b[0m\u001b[0;34m\u001b[0m\u001b[0;34m\u001b[0m\u001b[0m\n\u001b[1;32m    198\u001b[0m         '''\n\u001b[0;32m--> 199\u001b[0;31m         \u001b[0;32mreturn\u001b[0m \u001b[0mself\u001b[0m\u001b[0;34m.\u001b[0m\u001b[0mget\u001b[0m\u001b[0;34m(\u001b[0m\u001b[0mblock\u001b[0m\u001b[0;34m=\u001b[0m\u001b[0;32mFalse\u001b[0m\u001b[0;34m)\u001b[0m\u001b[0;34m\u001b[0m\u001b[0;34m\u001b[0m\u001b[0m\n\u001b[0m\u001b[1;32m    200\u001b[0m \u001b[0;34m\u001b[0m\u001b[0m\n\u001b[1;32m    201\u001b[0m     \u001b[0;31m# Override these methods to implement other queue organizations\u001b[0m\u001b[0;34m\u001b[0m\u001b[0;34m\u001b[0m\u001b[0m\n",
            "\u001b[0;32m/usr/lib/python3.10/queue.py\u001b[0m in \u001b[0;36mget\u001b[0;34m(self, block, timeout)\u001b[0m\n\u001b[1;32m    166\u001b[0m             \u001b[0;32mif\u001b[0m \u001b[0;32mnot\u001b[0m \u001b[0mblock\u001b[0m\u001b[0;34m:\u001b[0m\u001b[0;34m\u001b[0m\u001b[0;34m\u001b[0m\u001b[0m\n\u001b[1;32m    167\u001b[0m                 \u001b[0;32mif\u001b[0m \u001b[0;32mnot\u001b[0m \u001b[0mself\u001b[0m\u001b[0;34m.\u001b[0m\u001b[0m_qsize\u001b[0m\u001b[0;34m(\u001b[0m\u001b[0;34m)\u001b[0m\u001b[0;34m:\u001b[0m\u001b[0;34m\u001b[0m\u001b[0;34m\u001b[0m\u001b[0m\n\u001b[0;32m--> 168\u001b[0;31m                     \u001b[0;32mraise\u001b[0m \u001b[0mEmpty\u001b[0m\u001b[0;34m\u001b[0m\u001b[0;34m\u001b[0m\u001b[0m\n\u001b[0m\u001b[1;32m    169\u001b[0m             \u001b[0;32melif\u001b[0m \u001b[0mtimeout\u001b[0m \u001b[0;32mis\u001b[0m \u001b[0;32mNone\u001b[0m\u001b[0;34m:\u001b[0m\u001b[0;34m\u001b[0m\u001b[0;34m\u001b[0m\u001b[0m\n\u001b[1;32m    170\u001b[0m                 \u001b[0;32mwhile\u001b[0m \u001b[0;32mnot\u001b[0m \u001b[0mself\u001b[0m\u001b[0;34m.\u001b[0m\u001b[0m_qsize\u001b[0m\u001b[0;34m(\u001b[0m\u001b[0;34m)\u001b[0m\u001b[0;34m:\u001b[0m\u001b[0;34m\u001b[0m\u001b[0;34m\u001b[0m\u001b[0m\n",
            "\u001b[0;31mKeyboardInterrupt\u001b[0m: "
          ]
        }
      ],
      "source": [
        "from google.colab import drive\n",
        "drive.mount('/content/drive')"
      ]
    },
    {
      "cell_type": "code",
      "execution_count": null,
      "metadata": {
        "id": "GxUFa2Bl04yO"
      },
      "outputs": [],
      "source": [
        "import tensorflow as tf\n",
        "import numpy as np\n",
        "import pandas as pd\n",
        "from tensorflow.keras.preprocessing.text import Tokenizer\n",
        "from tensorflow.keras.preprocessing.sequence import pad_sequences\n",
        "from tensorflow.keras.models import Model\n",
        "from tensorflow.keras.layers import Input, Embedding, Conv1D, MaxPooling1D, Flatten, Dense, Concatenate, Dropout"
      ]
    },
    {
      "cell_type": "markdown",
      "metadata": {
        "id": "O7dob9AP8169"
      },
      "source": [
        "### Extract Domain Part of URL and assign labels"
      ]
    },
    {
      "cell_type": "code",
      "execution_count": null,
      "metadata": {
        "id": "ItkJTrNrKxjO"
      },
      "outputs": [],
      "source": [
        "# Function to load URLs from a DataFrame and assign labels\n",
        "from urllib.parse import urlparse\n",
        "def load_urls_and_labels_from_df(dataframe, label_column, label_mapping):\n",
        "    urls = dataframe['Data'].tolist()\n",
        "    categories = dataframe['Category'].tolist()\n",
        "\n",
        "    # Map categories to numerical labels\n",
        "    labels = [label_mapping[category] for category in categories]\n",
        "\n",
        "    preprocessed_urls = [parsed_url.netloc for url in urls if (parsed_url := urlparse(url if '://' in url else 'http://' + url.strip())).netloc]\n",
        "\n",
        "    return preprocessed_urls, labels\n",
        "\n",
        "\n",
        "# Path to the Excel file containing URLs and categories\n",
        "excel_file_path = 'URL.xlsx'  # Replace with the actual file path\n",
        "\n",
        "# Load data from Excel file\n",
        "df = pd.read_excel(excel_file_path)\n",
        "\n",
        "# Define label mapping (assuming 'ham' is 0 and 'spam' is 1)\n",
        "label_mapping = {'ham': 0, 'spam': 1}\n",
        "\n",
        "# Load URLs and labels with corresponding mapping\n",
        "urls, labels = load_urls_and_labels_from_df(df, label_column='category', label_mapping=label_mapping)\n",
        "\n",
        "\n",
        "# Save preprocessed URLs to a file\n",
        "output_file_path = 'preprocessed_urls.txt'\n",
        "with open(output_file_path, 'w') as file:\n",
        "    for url in urls:\n",
        "        file.write(url + '\\n')\n"
      ]
    },
    {
      "cell_type": "code",
      "execution_count": null,
      "metadata": {
        "colab": {
          "base_uri": "https://localhost:8080/"
        },
        "id": "OF3kBKP4Tdfe",
        "outputId": "2dfa2b7d-d33b-4891-92ec-23019a0bf043"
      },
      "outputs": [
        {
          "output_type": "stream",
          "name": "stdout",
          "text": [
            "Mode URL Length: 14\n",
            "Mean URL Length: 19.739294293963372\n"
          ]
        }
      ],
      "source": [
        "# Calculate the mode and mean length of the URL dataset\n",
        "url_lengths = [len(url) for url in urls]\n",
        "\n",
        "# Calculate mode\n",
        "mode_length = max(set(url_lengths), key=url_lengths.count)\n",
        "\n",
        "# Calculate mean\n",
        "mean_length = sum(url_lengths) / len(url_lengths)\n",
        "\n",
        "print(f\"Mode URL Length: {mode_length}\")\n",
        "print(f\"Mean URL Length: {mean_length}\")"
      ]
    },
    {
      "cell_type": "code",
      "execution_count": null,
      "metadata": {
        "colab": {
          "base_uri": "https://localhost:8080/"
        },
        "id": "CcFtpPnjTqgB",
        "outputId": "6a022a87-27a6-4b44-96cc-c63997ac1066"
      },
      "outputs": [
        {
          "output_type": "stream",
          "name": "stdout",
          "text": [
            "Median URL Length: 17\n"
          ]
        }
      ],
      "source": [
        "# Calculate the median length of the URL dataset\n",
        "sorted_lengths = sorted(url_lengths)\n",
        "length_count = len(sorted_lengths)\n",
        "\n",
        "if length_count % 2 == 0:\n",
        "    # If the length is even, calculate the average of the middle two values\n",
        "    median_length = (sorted_lengths[length_count // 2 - 1] + sorted_lengths[length_count // 2]) / 2\n",
        "else:\n",
        "    # If the length is odd, select the middle value\n",
        "    median_length = sorted_lengths[length_count // 2]\n",
        "\n",
        "print(f\"Median URL Length: {median_length}\")"
      ]
    },
    {
      "cell_type": "markdown",
      "metadata": {
        "id": "SlPQgb139E6w"
      },
      "source": [
        "### Length Distribution of URL"
      ]
    },
    {
      "cell_type": "code",
      "execution_count": null,
      "metadata": {
        "colab": {
          "base_uri": "https://localhost:8080/",
          "height": 472
        },
        "id": "27yyXbZET49k",
        "outputId": "6da77d87-d309-4686-eb69-a3563281787f"
      },
      "outputs": [
        {
          "output_type": "display_data",
          "data": {
            "text/plain": [
              "<Figure size 640x480 with 1 Axes>"
            ],
            "image/png": "[encoded data removed]"
          },
          "metadata": {}
        }
      ],
      "source": [
        "import matplotlib.pyplot as plt\n",
        "\n",
        "# Assuming you already have the 'urls' variable containing your URLs\n",
        "url_lengths = [len(url) for url in urls]\n",
        "\n",
        "# Plot a histogram to visualize the distribution of URL lengths\n",
        "plt.hist(url_lengths, bins=50, alpha=0.75, color='b', edgecolor='black')\n",
        "plt.xlabel('URL Length')\n",
        "plt.ylabel('Frequency')\n",
        "plt.title('Distribution of URL Lengths')\n",
        "plt.show()\n",
        "\n",
        "# Analyze the plot and set a max sequence length based on your requirements\n",
        "max_sequence_length = 50\n",
        " # Set your desired max sequence length\n",
        "\n",
        "# Trim URLs to the chosen max sequence length\n",
        "trimmed_urls = [url[:max_sequence_length] for url in urls]\n",
        "\n",
        "# Now 'trimmed_urls' contains the URLs trimmed to the chosen max sequence length\n"
      ]
    },
    {
      "cell_type": "markdown",
      "metadata": {
        "id": "ko8z2drQ-vtl"
      },
      "source": [
        "### Class distribution of URL"
      ]
    },
    {
      "cell_type": "code",
      "execution_count": null,
      "metadata": {
        "colab": {
          "base_uri": "https://localhost:8080/"
        },
        "id": "D-YCgGiqSgbF",
        "outputId": "5fe0ba2e-8ba3-46d8-a03c-bcef24a41404"
      },
      "outputs": [
        {
          "output_type": "stream",
          "name": "stdout",
          "text": [
            "Class Distribution:\n",
            "Category\n",
            "ham     22687\n",
            "spam    22686\n",
            "Name: count, dtype: int64\n"
          ]
        }
      ],
      "source": [
        "import pandas as pd\n",
        "\n",
        "# Assuming your labels are in a column named 'label' in a DataFrame\n",
        "class_distribution = df['Category'].value_counts()\n",
        "\n",
        "print(\"Class Distribution:\")\n",
        "print(class_distribution)"
      ]
    },
    {
      "cell_type": "markdown",
      "metadata": {
        "id": "BquKj4n29r9v"
      },
      "source": [
        "### Padding with PAD token and replacing less frequent characters with UNK token"
      ]
    },
    {
      "cell_type": "code",
      "execution_count": null,
      "metadata": {
        "id": "yqJP2_8X-6IJ"
      },
      "outputs": [],
      "source": [
        "# Create a set of all characters in the URLs\n",
        "all_characters = set(''.join(urls))\n",
        "\n",
        "# Replace less frequent characters with <UNK>\n",
        "frequency_threshold = 100\n",
        "character_counts = {char: 0 for char in all_characters}\n",
        "for url in urls:\n",
        "    for char in url:\n",
        "        character_counts[char] += 1\n",
        "\n",
        "# Modify the URLs by replacing less frequent characters with <UNK>\n",
        "for i in range(len(urls)):\n",
        "    for char, count in character_counts.items():\n",
        "        if count < frequency_threshold:\n",
        "            urls[i] = urls[i].replace(char, '<UNK>')\n",
        "\n",
        "# Obtain M unique characters including <UNK> and <PAD>\n",
        "unique_characters = list(set(''.join(urls)))\n",
        "unique_characters += ['<UNK>', '<PAD>']\n",
        "M = len(unique_characters)\n",
        "\n",
        "# Set the length of the sequence L1 to 100 characters\n",
        "L1 = 50\n",
        "\n",
        "# Truncate URLs longer than 100 characters\n",
        "urls_truncated = [url[:L1] for url in urls]\n",
        "\n",
        "# Now, 'urls_truncated' contains the modified URLs, and 'labels' contains corresponding numerical labels."
      ]
    },
    {
      "cell_type": "code",
      "source": [],
      "metadata": {
        "id": "qpzAvX9GjSYV"
      },
      "execution_count": null,
      "outputs": []
    },
    {
      "cell_type": "markdown",
      "metadata": {
        "id": "dLnBWd1Z4kLA"
      },
      "source": [
        "### URL tokenizer and shuffling of dataset to introduce randomness"
      ]
    },
    {
      "cell_type": "code",
      "execution_count": null,
      "metadata": {
        "id": "vtUeLuveNSo2"
      },
      "outputs": [],
      "source": [
        "import pandas as pd\n",
        "import numpy as np\n",
        "from tensorflow.keras.preprocessing.text import Tokenizer\n",
        "from tensorflow.keras.preprocessing.sequence import pad_sequences\n",
        "\n",
        "# Shuffle the data\n",
        "indices = np.arange(len(urls_truncated))\n",
        "np.random.shuffle(indices)\n",
        "\n",
        "# Shuffle URLs and labels accordingly\n",
        "shuffled_urls = [urls_truncated[i] for i in indices]\n",
        "shuffled_labels = [labels[i] for i in indices]\n",
        "\n",
        "tokenizer = Tokenizer(char_level=True, oov_token='<UNK>')\n",
        "tokenizer.fit_on_texts(shuffled_urls)\n",
        "sequences = tokenizer.texts_to_sequences(shuffled_urls)\n",
        "padded_sequences = pad_sequences(sequences, maxlen=L1, padding='post', truncating='post')\n",
        "\n",
        "# Read the Excel file into a DataFrame\n",
        "ddf = pd.read_excel('data1.xlsx')\n",
        "\n",
        "# Shuffle DataFrame rows based on the shuffled indices\n",
        "shuffled_dataset = ddf.iloc[indices].reset_index(drop=True)\n",
        "\n",
        "# Extract data from the third column to the last column\n",
        "ddf = shuffled_dataset.iloc[:, 3:]\n"
      ]
    },
    {
      "cell_type": "code",
      "execution_count": null,
      "metadata": {
        "colab": {
          "base_uri": "https://localhost:8080/"
        },
        "id": "vpu0z3bqA4B9",
        "outputId": "0599b559-81f6-4257-e5cc-12d8035ffa6d"
      },
      "outputs": [
        {
          "output_type": "stream",
          "name": "stdout",
          "text": [
            "[10 12 20  3 11  3  4  8 11 15 18 12  3  2  6  3 10  0  0  0  0  0  0  0\n",
            "  0  0  0  0  0  0  0  0  0  0  0  0  0  0  0  0  0  0  0  0  0  0  0  0\n",
            "  0  0]\n"
          ]
        }
      ],
      "source": [
        "print(padded_sequences[5])"
      ]
    },
    {
      "cell_type": "markdown",
      "metadata": {
        "id": "DVtJrHnsBG7-"
      },
      "source": [
        "### Splitting dataset"
      ]
    },
    {
      "cell_type": "code",
      "execution_count": null,
      "metadata": {
        "colab": {
          "base_uri": "https://localhost:8080/"
        },
        "id": "QKxaHBoyBPC-",
        "outputId": "87581959-1094-430c-ef60-12ecbbabdff6"
      },
      "outputs": [
        {
          "output_type": "stream",
          "name": "stdout",
          "text": [
            "[[ 0  3 14  3  0  1]\n",
            " [ 0  2 15  3  0  0]\n",
            " [ 0  4 17  5  0  0]\n",
            " ...\n",
            " [ 0  2 21  3  0  0]\n",
            " [ 0  1  9  2  0  0]\n",
            " [ 0  3 10  3  0  0]]\n"
          ]
        }
      ],
      "source": [
        "# Split the data into training and testing sets\n",
        "from sklearn.model_selection import train_test_split\n",
        "\n",
        "X = padded_sequences\n",
        "y = shuffled_labels\n",
        "X_numeric = ddf.values\n",
        "print(X_numeric)\n",
        "\n",
        "X_numeric_train, X_numeric_test, X_train, X_test, X_train_char, X_test_char, y_train, y_test = train_test_split(X_numeric, shuffled_urls, X, y, test_size=0.2, random_state=42)\n"
      ]
    },
    {
      "cell_type": "markdown",
      "metadata": {
        "id": "nLOO6Cfm-izG"
      },
      "source": [
        "### Creating n-gram feature vector of URL"
      ]
    },
    {
      "cell_type": "code",
      "execution_count": null,
      "metadata": {
        "colab": {
          "base_uri": "https://localhost:8080/"
        },
        "id": "ZERrPYca5P0j",
        "outputId": "2b820fb1-9f33-497c-dac3-8a31bab7f77e"
      },
      "outputs": [
        {
          "output_type": "stream",
          "name": "stdout",
          "text": [
            "Shape of X_train_ngram: (36298, 1000)\n"
          ]
        }
      ],
      "source": [
        "from sklearn.feature_extraction.text import CountVectorizer\n",
        "# X_train_list = X_train.tolist()\n",
        "# X_test_list = X_test.tolist()\n",
        "\n",
        "# Define the n-gram range and maximum number of features\n",
        "ngram_range = (2, 5)  # Consider n-grams of length 2 to 5\n",
        "max_features = 1000  # Maximum number of features\n",
        "\n",
        "# Initialize CountVectorizer to extract n-grams\n",
        "vectorizer = CountVectorizer(analyzer='char', ngram_range=ngram_range, max_features=max_features)\n",
        "\n",
        "# Convert X_train to a list of strings if it's a NumPy array\n",
        "X_train_list = X_train.tolist() if isinstance(X_train, np.ndarray) else X_train\n",
        "X_train_list = [str(item) for item in X_train_list]\n",
        "\n",
        "X_test_list = X_test.tolist() if isinstance(X_test, np.ndarray) else X_test\n",
        "X_test_list = [str(item) for item in X_test_list]\n",
        "# Fit the vectorizer on your training data\n",
        "vectorizer.fit(X_train_list)\n",
        "\n",
        "# Transform the training and testing data into n-gram representations\n",
        "X_train_ngram = vectorizer.transform(X_train_list)\n",
        "X_test_ngram = vectorizer.transform(X_test_list)\n",
        "\n",
        "# Convert the sparse matrices to dense arrays\n",
        "X_train_ngram = X_train_ngram.toarray()\n",
        "X_test_ngram = X_test_ngram.toarray()\n",
        "\n",
        "# Initialize CountVectorizer to extract n-grams\n",
        "vectorizer = CountVectorizer(analyzer='char', ngram_range=ngram_range, max_features=max_features)\n",
        "\n",
        "\n",
        "\n",
        "# Print the shape of the n-gram matrix\n",
        "print(\"Shape of X_train_ngram:\", X_train_ngram.shape)\n"
      ]
    },
    {
      "cell_type": "code",
      "execution_count": null,
      "metadata": {
        "colab": {
          "base_uri": "https://localhost:8080/"
        },
        "id": "KHWxRrw6An-k",
        "outputId": "a9702304-7264-4c5b-ecc7-2cf79d255f87"
      },
      "outputs": [
        {
          "output_type": "stream",
          "name": "stdout",
          "text": [
            "Total number of unique n-grams: 1000\n"
          ]
        }
      ],
      "source": [
        "\n",
        "vectorizer.fit(X_train_list)\n",
        "num_ngrams = len(vectorizer.vocabulary_)\n",
        "\n",
        "# Print the total number of unique n-grams\n",
        "print(\"Total number of unique n-grams:\", num_ngrams)"
      ]
    },
    {
      "cell_type": "markdown",
      "metadata": {
        "id": "SN-gzhdE_PQq"
      },
      "source": [
        "### Input and Embedding Layer"
      ]
    },
    {
      "cell_type": "code",
      "execution_count": null,
      "metadata": {
        "id": "ThgVvv4j_H5q"
      },
      "outputs": [],
      "source": [
        "max_sequence_length_char = 50\n",
        "max_sequence_length_ngram = 1000\n",
        "embedding_dim = 32\n",
        "num_filters = 256\n",
        "filter_sizes = [3,4,5]\n",
        "\n",
        "# Define input layer\n",
        "input_layer_char = Input(shape=(max_sequence_length_char,))\n",
        "input_layer_ngram = Input(shape=(max_sequence_length_ngram,))\n",
        "input_layer_numeric = Input(shape=(6,))\n",
        "\n",
        "# Character embedding layer\n",
        "embedding_layer_char = Embedding(input_dim=len(tokenizer.word_index) + 1, output_dim=embedding_dim)(input_layer_char)\n",
        "\n",
        "# N-gram embedding layer\n",
        "embedding_layer_ngram = Embedding(input_dim=1000, output_dim=embedding_dim)(input_layer_ngram)"
      ]
    },
    {
      "cell_type": "markdown",
      "metadata": {
        "id": "ZdmUY28E_c4D"
      },
      "source": [
        "### Convolutional Layer"
      ]
    },
    {
      "cell_type": "code",
      "execution_count": null,
      "metadata": {
        "id": "maD7sKK8_boM"
      },
      "outputs": [],
      "source": [
        "# Convolutional blocks for character embedding\n",
        "conv_blocks_char = []\n",
        "for filter_size in filter_sizes:\n",
        "    conv_layer = Conv1D(filters=num_filters, kernel_size=filter_size, activation='relu')(embedding_layer_char)\n",
        "    maxpool_layer = MaxPooling1D(pool_size=max_sequence_length_char - filter_size + 1)(conv_layer)\n",
        "    conv_blocks_char.append(maxpool_layer)\n",
        "\n",
        "# Convolutional blocks for n-gram embedding\n",
        "conv_blocks_ngram = []\n",
        "for filter_size in filter_sizes:\n",
        "    conv_layer = Conv1D(filters=num_filters, kernel_size=filter_size, activation='relu')(embedding_layer_ngram)\n",
        "    maxpool_layer = MaxPooling1D(pool_size=max_sequence_length_ngram - filter_size + 1)(conv_layer)\n",
        "    conv_blocks_ngram.append(maxpool_layer)"
      ]
    },
    {
      "cell_type": "markdown",
      "metadata": {
        "id": "qKQwW7h9_nyY"
      },
      "source": [
        "### Concatenation of features"
      ]
    },
    {
      "cell_type": "code",
      "execution_count": null,
      "metadata": {
        "id": "JY9NS7qK_pd9"
      },
      "outputs": [],
      "source": [
        "from tensorflow.keras.layers import Input, Embedding, Conv1D, MaxPooling1D, Concatenate, Flatten, Dense, Dropout, Reshape\n",
        "from tensorflow.keras.models import Model\n",
        "\n",
        "# Concatenate the outputs from different filter sizes for both character and n-gram embeddings\n",
        "concatenated_char = Concatenate()(conv_blocks_char)\n",
        "concatenated_ngram = Concatenate()(conv_blocks_ngram)\n",
        "\n",
        "# Reshape numeric input\n",
        "reshaped_input_layer_numeric = Reshape((1, 6))(input_layer_numeric)\n",
        "\n",
        "# Concatenate the outputs from character and n-gram embeddings\n",
        "concatenated_output = Concatenate()([concatenated_char, concatenated_ngram, reshaped_input_layer_numeric])\n"
      ]
    },
    {
      "cell_type": "markdown",
      "metadata": {
        "id": "q-5I6ko8_p-Y"
      },
      "source": [
        "### Attention Layer"
      ]
    },
    {
      "cell_type": "code",
      "execution_count": null,
      "metadata": {
        "id": "t6BHR3-A_qtK"
      },
      "outputs": [],
      "source": [
        "class AttentionLayer(tf.keras.layers.Layer):\n",
        "    def __init__(self, dropout_rate=0.1, **kwargs):\n",
        "        super(AttentionLayer, self).__init__(**kwargs)\n",
        "        self.dropout_rate = dropout_rate\n",
        "\n",
        "    def build(self, input_shape):\n",
        "        self.W = self.add_weight(name=\"att_weight\", shape=(input_shape[-1], 1), initializer=\"glorot_normal\")\n",
        "        self.b = self.add_weight(name=\"att_bias\", shape=(input_shape[1], 1), initializer=\"zeros\")\n",
        "        self.dropout = tf.keras.layers.Dropout(self.dropout_rate)\n",
        "        self.layer_norm = tf.keras.layers.LayerNormalization(epsilon=1e-6)\n",
        "        super(AttentionLayer, self).build(input_shape)\n",
        "\n",
        "    def call(self, x, mask=None):\n",
        "        et = tf.squeeze(tf.tanh(tf.matmul(x, self.W) + self.b), axis=-1)\n",
        "        if mask is not None:\n",
        "            et += (1.0 - mask) * -1e9  # Masked positions will have very negative scores\n",
        "        at = tf.nn.softmax(et)\n",
        "        at = tf.expand_dims(at, axis=-1)\n",
        "        output = x * at\n",
        "        output = tf.reduce_sum(output, axis=1)\n",
        "        output = self.layer_norm(output)\n",
        "        output = self.dropout(output)\n",
        "        return output\n",
        "\n",
        "\n",
        "# Apply attention mechanism\n",
        "attention_output = AttentionLayer()(concatenated_output)"
      ]
    },
    {
      "cell_type": "markdown",
      "metadata": {
        "id": "HuVc4oJcFChe"
      },
      "source": [
        "### Neural Network Classifier"
      ]
    },
    {
      "cell_type": "code",
      "execution_count": null,
      "metadata": {
        "colab": {
          "base_uri": "https://localhost:8080/"
        },
        "id": "YS8DlHYoFsL0",
        "outputId": "ca55533b-bb18-4eee-b3b4-c55ce5e7fa1d"
      },
      "outputs": [
        {
          "output_type": "stream",
          "name": "stdout",
          "text": [
            "Model: \"model_1\"\n",
            "__________________________________________________________________________________________________\n",
            " Layer (type)                Output Shape                 Param #   Connected to                  \n",
            "==================================================================================================\n",
            " input_1 (InputLayer)        [(None, 50)]                 0         []                            \n",
            "                                                                                                  \n",
            " input_2 (InputLayer)        [(None, 1000)]               0         []                            \n",
            "                                                                                                  \n",
            " embedding (Embedding)       (None, 50, 32)               1376      ['input_1[0][0]']             \n",
            "                                                                                                  \n",
            " embedding_1 (Embedding)     (None, 1000, 32)             32000     ['input_2[0][0]']             \n",
            "                                                                                                  \n",
            " conv1d (Conv1D)             (None, 48, 256)              24832     ['embedding[0][0]']           \n",
            "                                                                                                  \n",
            " conv1d_1 (Conv1D)           (None, 47, 256)              33024     ['embedding[0][0]']           \n",
            "                                                                                                  \n",
            " conv1d_2 (Conv1D)           (None, 46, 256)              41216     ['embedding[0][0]']           \n",
            "                                                                                                  \n",
            " conv1d_3 (Conv1D)           (None, 998, 256)             24832     ['embedding_1[0][0]']         \n",
            "                                                                                                  \n",
            " conv1d_4 (Conv1D)           (None, 997, 256)             33024     ['embedding_1[0][0]']         \n",
            "                                                                                                  \n",
            " conv1d_5 (Conv1D)           (None, 996, 256)             41216     ['embedding_1[0][0]']         \n",
            "                                                                                                  \n",
            " max_pooling1d (MaxPooling1  (None, 1, 256)               0         ['conv1d[0][0]']              \n",
            " D)                                                                                               \n",
            "                                                                                                  \n",
            " max_pooling1d_1 (MaxPoolin  (None, 1, 256)               0         ['conv1d_1[0][0]']            \n",
            " g1D)                                                                                             \n",
            "                                                                                                  \n",
            " max_pooling1d_2 (MaxPoolin  (None, 1, 256)               0         ['conv1d_2[0][0]']            \n",
            " g1D)                                                                                             \n",
            "                                                                                                  \n",
            " max_pooling1d_3 (MaxPoolin  (None, 1, 256)               0         ['conv1d_3[0][0]']            \n",
            " g1D)                                                                                             \n",
            "                                                                                                  \n",
            " max_pooling1d_4 (MaxPoolin  (None, 1, 256)               0         ['conv1d_4[0][0]']            \n",
            " g1D)                                                                                             \n",
            "                                                                                                  \n",
            " max_pooling1d_5 (MaxPoolin  (None, 1, 256)               0         ['conv1d_5[0][0]']            \n",
            " g1D)                                                                                             \n",
            "                                                                                                  \n",
            " input_3 (InputLayer)        [(None, 6)]                  0         []                            \n",
            "                                                                                                  \n",
            " concatenate (Concatenate)   (None, 1, 768)               0         ['max_pooling1d[0][0]',       \n",
            "                                                                     'max_pooling1d_1[0][0]',     \n",
            "                                                                     'max_pooling1d_2[0][0]']     \n",
            "                                                                                                  \n",
            " concatenate_1 (Concatenate  (None, 1, 768)               0         ['max_pooling1d_3[0][0]',     \n",
            " )                                                                   'max_pooling1d_4[0][0]',     \n",
            "                                                                     'max_pooling1d_5[0][0]']     \n",
            "                                                                                                  \n",
            " reshape (Reshape)           (None, 1, 6)                 0         ['input_3[0][0]']             \n",
            "                                                                                                  \n",
            " concatenate_2 (Concatenate  (None, 1, 1542)              0         ['concatenate[0][0]',         \n",
            " )                                                                   'concatenate_1[0][0]',       \n",
            "                                                                     'reshape[0][0]']             \n",
            "                                                                                                  \n",
            " attention_layer_1 (Attenti  (None, 1542)                 4627      ['concatenate_2[0][0]']       \n",
            " onLayer)                                                                                         \n",
            "                                                                                                  \n",
            " dense_4 (Dense)             (None, 256)                  395008    ['attention_layer_1[0][0]']   \n",
            "                                                                                                  \n",
            " dropout_3 (Dropout)         (None, 256)                  0         ['dense_4[0][0]']             \n",
            "                                                                                                  \n",
            " dense_5 (Dense)             (None, 128)                  32896     ['dropout_3[0][0]']           \n",
            "                                                                                                  \n",
            " dropout_4 (Dropout)         (None, 128)                  0         ['dense_5[0][0]']             \n",
            "                                                                                                  \n",
            " dense_6 (Dense)             (None, 1)                    129       ['dropout_4[0][0]']           \n",
            "                                                                                                  \n",
            "==================================================================================================\n",
            "Total params: 664180 (2.53 MB)\n",
            "Trainable params: 664180 (2.53 MB)\n",
            "Non-trainable params: 0 (0.00 Byte)\n",
            "__________________________________________________________________________________________________\n",
            "Epoch 1/10\n",
            "1815/1815 [==============================] - 648s 355ms/step - loss: 0.3920 - accuracy: 0.8275 - val_loss: 0.2517 - val_accuracy: 0.9024\n",
            "Epoch 2/10\n",
            "1815/1815 [==============================] - 655s 361ms/step - loss: 0.2449 - accuracy: 0.9054 - val_loss: 0.1977 - val_accuracy: 0.9257\n",
            "Epoch 3/10\n",
            "1815/1815 [==============================] - 659s 363ms/step - loss: 0.1998 - accuracy: 0.9239 - val_loss: 0.1824 - val_accuracy: 0.9352\n",
            "Epoch 4/10\n",
            "1815/1815 [==============================] - 696s 384ms/step - loss: 0.1716 - accuracy: 0.9354 - val_loss: 0.1658 - val_accuracy: 0.9351\n",
            "Epoch 5/10\n",
            "1815/1815 [==============================] - 676s 372ms/step - loss: 0.1511 - accuracy: 0.9436 - val_loss: 0.1789 - val_accuracy: 0.9300\n",
            "Epoch 6/10\n",
            "1815/1815 [==============================] - 667s 368ms/step - loss: 0.1323 - accuracy: 0.9509 - val_loss: 0.1593 - val_accuracy: 0.9395\n",
            "Epoch 7/10\n",
            " 125/1815 [=>............................] - ETA: 9:42 - loss: 0.1165 - accuracy: 0.9592"
          ]
        }
      ],
      "source": [
        "import numpy as np\n",
        "import tensorflow as tf\n",
        "from tensorflow.keras.optimizers import Adam\n",
        "from tensorflow.keras.callbacks import EarlyStopping\n",
        "from tensorflow.keras.layers import Dense, Dropout\n",
        "\n",
        "\n",
        "# First fully connected layer\n",
        "dense_layer1 = Dense(256, activation='relu')(attention_output)\n",
        "dropout_layer1 = Dropout(0.3)(dense_layer1)\n",
        "\n",
        "# Second fully connected layer\n",
        "dense_layer2 = Dense(128, activation='relu')(dropout_layer1)\n",
        "dropout_layer2 = Dropout(0.3)(dense_layer2)\n",
        "\n",
        "\n",
        "# Output layer\n",
        "output_layer = Dense(1, activation='sigmoid')(dropout_layer2)\n",
        "\n",
        "\n",
        "# Create the model\n",
        "model = Model(inputs=[input_layer_char, input_layer_ngram, input_layer_numeric], outputs=output_layer)\n",
        "\n",
        "# Convert data to numpy arrays\n",
        "X_train_char = np.array(X_train_char)\n",
        "X_train_ngram = np.array(X_train_ngram)\n",
        "X_numeric_train = np.array(X_numeric_train)\n",
        "y_train = np.array(y_train)\n",
        "\n",
        "X_test_char = np.array(X_test_char)\n",
        "X_test_ngram = np.array(X_test_ngram)\n",
        "X_numeric_test = np.array(X_numeric_test)\n",
        "y_test = np.array(y_test)\n",
        "\n",
        "# Compile the model\n",
        "model.compile(optimizer=Adam(learning_rate=0.0001), loss='binary_crossentropy', metrics=['accuracy'])\n",
        "\n",
        "# Print the model summary\n",
        "model.summary()\n",
        "\n",
        "# Train the model\n",
        "early_stopping = EarlyStopping(monitor='val_loss', patience=3)\n",
        "history = model.fit([X_train_char, X_train_ngram, X_numeric_train], y_train, epochs=10, batch_size=20, validation_data=([X_test_char, X_test_ngram, X_numeric_test], y_test))\n",
        "\n",
        "# Evaluate the model\n",
        "loss, accuracy = model.evaluate([X_test_char, X_test_ngram, X_numeric_test], y_test)\n",
        "print(\"Loss:\", loss)\n",
        "print(\"Accuracy:\", accuracy)\n"
      ]
    },
    {
      "cell_type": "code",
      "execution_count": null,
      "metadata": {
        "colab": {
          "base_uri": "https://localhost:8080/"
        },
        "id": "LpBZQFvaNdo7",
        "outputId": "e11598d7-344d-41ff-c40f-f4b74ec1027e"
      },
      "outputs": [
        {
          "output_type": "stream",
          "name": "stdout",
          "text": [
            "Shape of embedding weights 1: (43, 32)\n",
            "Shape of embedding weights 2: (1000, 32)\n",
            "Embedding weights 1:\n",
            "[[-0.06149007  0.17256711  0.091538   ... -0.10752389  0.14711797\n",
            "  -0.02826824]\n",
            " [ 0.00900948 -0.03682099 -0.01700206 ...  0.0362798   0.01429966\n",
            "  -0.01602372]\n",
            " [-0.20602524 -0.22160342  0.13518287 ...  0.11349261 -0.01278456\n",
            "   0.20258923]\n",
            " ...\n",
            " [-0.95781374 -1.0511706   0.77121705 ...  0.8795882  -0.02033276\n",
            "  -0.6771403 ]\n",
            " [-0.06456602  0.3792075  -0.06553914 ... -0.02154436  0.14742613\n",
            "  -0.05509058]\n",
            " [-0.25109634  0.01632992  0.07640485 ...  0.19915983 -0.02864552\n",
            "  -0.16186872]]\n",
            "Embedding weights 2:\n",
            "[[ 0.04130276  0.02248506 -0.02982323 ... -0.01680593 -0.01642029\n",
            "  -0.01785316]\n",
            " [ 0.02158655 -0.22800562 -0.03567053 ...  0.16374841 -0.03740771\n",
            "  -0.04158231]\n",
            " [-0.03918364  0.01114888  0.06015736 ... -0.03613827  0.05053885\n",
            "  -0.09588132]\n",
            " ...\n",
            " [ 0.00666983 -0.00816164 -0.04869831 ...  0.02458859  0.02445887\n",
            "  -0.04510163]\n",
            " [-0.04531113 -0.00763266  0.00807869 ... -0.02366802  0.03670024\n",
            "   0.0211787 ]\n",
            " [-0.00110254 -0.04831164  0.01874901 ... -0.00113317  0.04742397\n",
            "   0.02062659]]\n"
          ]
        }
      ],
      "source": [
        "# Get the weights of the first embedding layer\n",
        "weights_1 = model.layers[2].get_weights()[0]\n",
        "\n",
        "# Get the weights of the second embedding layer\n",
        "weights_2 = model.layers[3].get_weights()[0]\n",
        "\n",
        "# Print the shape of the weights matrices\n",
        "print(\"Shape of embedding weights 1:\", weights_1.shape)\n",
        "print(\"Shape of embedding weights 2:\", weights_2.shape)\n",
        "\n",
        "# Print the actual values of the embedding weights\n",
        "print(\"Embedding weights 1:\")\n",
        "print(weights_1)\n",
        "\n",
        "print(\"Embedding weights 2:\")\n",
        "print(weights_2)"
      ]
    },
    {
      "cell_type": "code",
      "execution_count": null,
      "metadata": {
        "colab": {
          "base_uri": "https://localhost:8080/"
        },
        "id": "K4AXpAqvUKp_",
        "outputId": "93e2ead8-da1a-4f54-84c3-43c6e57f9b23"
      },
      "outputs": [
        {
          "output_type": "stream",
          "name": "stdout",
          "text": [
            "284/284 [==============================] - 3s 10ms/step\n",
            "True Negative Rate (TNR): 0.9499125109361329\n",
            "False Negative Rate (FNR): 0.0657339551410171\n",
            "True Positive Rate (TPR): 0.9342660448589829\n",
            "False Positive Rate (FPR): 0.050087489063867015\n",
            "Precision: 0.9483769161406672\n"
          ]
        }
      ],
      "source": [
        "from sklearn.metrics import confusion_matrix\n",
        "\n",
        "# Make predictions on the test data\n",
        "y_pred = model.predict([X_test_char, X_test_ngram,X_numeric_test])\n",
        "\n",
        "# Convert the predicted probabilities to binary predictions\n",
        "y_pred_binary = (y_pred > 0.5).astype(int)\n",
        "\n",
        "# Compute the confusion matrix\n",
        "conf_matrix = confusion_matrix(y_test, y_pred_binary)\n",
        "\n",
        "# Extract TP, FP, TN, FN from the confusion matrix\n",
        "TN = conf_matrix[0, 0]\n",
        "FP = conf_matrix[0, 1]\n",
        "FN = conf_matrix[1, 0]\n",
        "TP = conf_matrix[1, 1]\n",
        "\n",
        "# Compute TPR and FPR\n",
        "TPR = TP / (TP + FN)\n",
        "FPR = FP / (FP + TN)\n",
        "# Compute TNR\n",
        "TNR = TN / (TN + FP)\n",
        "\n",
        "# Compute FNR\n",
        "FNR = FN / (FN + TP)\n",
        "\n",
        "# Print TNR and FNR\n",
        "print(\"True Negative Rate (TNR):\", TNR)\n",
        "print(\"False Negative Rate (FNR):\", FNR)\n",
        "# Print TPR and FPR\n",
        "print(\"True Positive Rate (TPR):\", TPR)\n",
        "print(\"False Positive Rate (FPR):\", FPR)\n",
        "\n",
        "\n",
        "# Compute precision\n",
        "precision = TP / (TP + FP)\n",
        "\n",
        "# Print precision\n",
        "print(\"Precision:\", precision)\n"
      ]
    },
    {
      "cell_type": "code",
      "execution_count": null,
      "metadata": {
        "colab": {
          "base_uri": "https://localhost:8080/",
          "height": 564
        },
        "id": "9mrziDHIn3k3",
        "outputId": "03897ae5-7cee-4442-bed8-25cc4ce7cccf"
      },
      "outputs": [
        {
          "output_type": "display_data",
          "data": {
            "text/plain": [
              "<Figure size 800x600 with 2 Axes>"
            ],
            "image/png": "[encoded data removed]"
          },
          "metadata": {}
        }
      ],
      "source": [
        "import matplotlib.pyplot as plt\n",
        "import seaborn as sns\n",
        "\n",
        "# Define classes\n",
        "classes = ['Benign', 'Phishing']\n",
        "\n",
        "# Plot confusion matrix as a heatmap\n",
        "plt.figure(figsize=(8, 6))\n",
        "sns.heatmap(conf_matrix, annot=True, fmt='d', cmap='Blues', xticklabels=classes, yticklabels=classes)\n",
        "plt.xlabel('Predicted Label')\n",
        "plt.ylabel('True Label')\n",
        "plt.title('Confusion Matrix')\n",
        "plt.show()\n"
      ]
    },
    {
      "cell_type": "code",
      "execution_count": null,
      "metadata": {
        "colab": {
          "base_uri": "https://localhost:8080/"
        },
        "id": "t7tLKU8ZsCrm",
        "outputId": "933ffa3e-e6c8-4902-80e5-13dcb74c8997"
      },
      "outputs": [
        {
          "output_type": "stream",
          "name": "stdout",
          "text": [
            "1474/1474 [==============================] - 10s 7ms/step\n",
            "AUC: 0.9433417246083585\n",
            "Recall: 0.9890004429351839\n",
            "F1 score: 0.9241859823399559\n"
          ]
        }
      ],
      "source": [
        "from sklearn.metrics import roc_auc_score, recall_score, f1_score\n",
        "\n",
        "# Predict probabilities for the test set\n",
        "y_pred_probs = model.predict([X_test_char, X_test_ngram, X_numeric_test])\n",
        "\n",
        "# Convert probabilities to binary predictions\n",
        "y_pred = (y_pred_probs > 0.5).astype(int)\n",
        "\n",
        "# Calculate AUC\n",
        "auc = roc_auc_score(y_test, y_pred_probs)\n",
        "\n",
        "# Calculate recall\n",
        "recall = recall_score(y_test, y_pred)\n",
        "\n",
        "# Calculate F1 score\n",
        "f1 = f1_score(y_test, y_pred)\n",
        "\n",
        "print(\"AUC:\", auc)\n",
        "print(\"Recall:\", recall)\n",
        "print(\"F1 score:\", f1)\n"
      ]
    },
    {
      "cell_type": "code",
      "execution_count": null,
      "metadata": {
        "id": "80NK6fZ2aS5Z"
      },
      "outputs": [],
      "source": [
        "\n",
        "from sklearn.model_selection import train_test_split\n",
        "from tensorflow.keras.optimizers import Adam\n",
        "from tensorflow.keras.callbacks import EarlyStopping\n",
        "from tensorflow.keras.models import Model\n",
        "from tensorflow.keras.layers import Input, Embedding, Conv1D, MaxPooling1D, Flatten, Dense, Dropout, Concatenate\n",
        "from tensorflow.keras.preprocessing.sequence import pad_sequences\n",
        "from sklearn.metrics import accuracy_score\n",
        "from tensorflow.keras.models import load_model"
      ]
    },
    {
      "cell_type": "code",
      "execution_count": null,
      "metadata": {
        "colab": {
          "base_uri": "https://localhost:8080/",
          "height": 407
        },
        "id": "p36lSStHJx4R",
        "outputId": "40a25eea-9b89-42cc-e906-e689a8f6b456"
      },
      "outputs": [
        {
          "output_type": "display_data",
          "data": {
            "text/plain": [
              "<Figure size 1200x400 with 1 Axes>"
            ],
            "image/png": "[encoded data removed]"
          },
          "metadata": {}
        }
      ],
      "source": [
        "import matplotlib.pyplot as plt\n",
        "\n",
        "plt.figure(figsize=(12, 4))\n",
        "\n",
        "\n",
        "\n",
        "# Plot training & validation accuracy valuesa\n",
        "plt.subplot(1, 2, 2)\n",
        "plt.plot(history.history['accuracy'], label='Training Accuracy')\n",
        "plt.plot(history.history['val_accuracy'], label='Validation Accuracy')\n",
        "plt.title('Model Accuracy')\n",
        "plt.xlabel('Epoch')\n",
        "plt.ylabel('Accuracy')\n",
        "plt.legend()\n",
        "\n",
        "plt.tight_layout()\n",
        "plt.show()"
      ]
    },
    {
      "cell_type": "markdown",
      "metadata": {
        "id": "CNHsCHrI1koh"
      },
      "source": [
        "### Saving the model"
      ]
    },
    {
      "cell_type": "code",
      "execution_count": null,
      "metadata": {
        "colab": {
          "base_uri": "https://localhost:8080/"
        },
        "id": "Trxd-_V72i7h",
        "outputId": "c1039879-e3f7-432e-b4b3-695449e5dde8"
      },
      "outputs": [
        {
          "output_type": "stream",
          "name": "stderr",
          "text": [
            "/usr/local/lib/python3.10/dist-packages/keras/src/engine/training.py:3103: UserWarning: You are saving your model as an HDF5 file via `model.save()`. This file format is considered legacy. We recommend using instead the native Keras format, e.g. `model.save('my_model.keras')`.\n",
            "  saving_api.save_model(\n"
          ]
        }
      ],
      "source": [
        "model_save_path = '/content/drive/My Drive/model/cnnmodel2.h5'\n",
        "\n",
        "# Save the model\n",
        "model.save(model_save_path)"
      ]
    },
    {
      "cell_type": "code",
      "execution_count": null,
      "metadata": {
        "id": "7yIDDURY3b31"
      },
      "outputs": [],
      "source": [
        "import tensorflow as tf\n",
        "from tensorflow.keras.models import load_model\n",
        "\n",
        "\n",
        "# Define your custom attention layer class\n",
        "class AttentionLayer(tf.keras.layers.Layer):\n",
        "    def __init__(self, dropout_rate=0.1, **kwargs):\n",
        "        super(AttentionLayer, self).__init__(**kwargs)\n",
        "        self.dropout_rate = dropout_rate\n",
        "\n",
        "    def build(self, input_shape):\n",
        "        self.W = self.add_weight(name=\"att_weight\", shape=(input_shape[-1], 1), initializer=\"glorot_normal\")\n",
        "        self.b = self.add_weight(name=\"att_bias\", shape=(input_shape[1], 1), initializer=\"zeros\")\n",
        "        self.dropout = tf.keras.layers.Dropout(self.dropout_rate)\n",
        "        self.layer_norm = tf.keras.layers.LayerNormalization(epsilon=1e-6)\n",
        "        super(AttentionLayer, self).build(input_shape)\n",
        "\n",
        "    def call(self, x, mask=None):\n",
        "        et = tf.squeeze(tf.tanh(tf.matmul(x, self.W) + self.b), axis=-1)\n",
        "        if mask is not None:\n",
        "            et += (1.0 - mask) * -1e9  # Masked positions will have very negative scores\n",
        "        at = tf.nn.softmax(et)\n",
        "        at = tf.expand_dims(at, axis=-1)\n",
        "        output = x * at\n",
        "        output = tf.reduce_sum(output, axis=1)\n",
        "        output = self.layer_norm(output)\n",
        "        output = self.dropout(output)\n",
        "        return output\n",
        "\n",
        "# Define a custom object scope to register the custom layer\n",
        "with tf.keras.utils.custom_object_scope({'AttentionLayer': AttentionLayer}):\n",
        "    # Load the entire model\n",
        "    loaded_model = load_model('/content/drive/MyDrive/model/cnnmodel2.h5')\n"
      ]
    },
    {
      "cell_type": "markdown",
      "metadata": {
        "id": "n5U80B3O3uZf"
      },
      "source": [
        "### Predict"
      ]
    },
    {
      "cell_type": "code",
      "execution_count": null,
      "metadata": {
        "id": "aYe4jRks7092"
      },
      "outputs": [],
      "source": [
        "# 5.Gives number of '/' in URL (URL_Depth)\n",
        "def getDepth(url):\n",
        "    # Split the path of the URL on the dot character\n",
        "    parsed_url = urlparse(url if '://' in url else 'http://' + url.strip())\n",
        "    dom_url = parsed_url.netloc\n",
        "    s = dom_url.split('.')\n",
        "    depth = 0\n",
        "    for part in s:\n",
        "        if part:\n",
        "            depth += 1\n",
        "\n",
        "    return depth"
      ]
    },
    {
      "cell_type": "code",
      "execution_count": null,
      "metadata": {
        "id": "TfVcvEUn8ACZ"
      },
      "outputs": [],
      "source": [
        "# 6.Checking for redirection '//' in the url (Redirection)\n",
        "def redirection(url):\n",
        "  pos = url.rfind('//')\n",
        "  if pos > 6:\n",
        "    if pos > 7:\n",
        "      return 1\n",
        "    else:\n",
        "      return 0\n",
        "  else:\n",
        "    return 0"
      ]
    },
    {
      "cell_type": "code",
      "execution_count": null,
      "metadata": {
        "id": "pMoIUWXx9BAM"
      },
      "outputs": [],
      "source": [
        "#listing shortening services\n",
        "shortening_services = r\"bit\\.ly|goo\\.gl|shorte\\.st|go2l\\.ink|x\\.co|ow\\.ly|t\\.co|tinyurl|tr\\.im|is\\.gd|cli\\.gs|\" \\\n",
        "                      r\"yfrog\\.com|migre\\.me|ff\\.im|tiny\\.cc|url4\\.eu|twit\\.ac|su\\.pr|twurl\\.nl|snipurl\\.com|\" \\\n",
        "                      r\"short\\.to|BudURL\\.com|ping\\.fm|post\\.ly|Just\\.as|bkite\\.com|snipr\\.com|fic\\.kr|loopt\\.us|\" \\\n",
        "                      r\"doiop\\.com|short\\.ie|kl\\.am|wp\\.me|rubyurl\\.com|om\\.ly|to\\.ly|bit\\.do|t\\.co|lnkd\\.in|db\\.tt|\" \\\n",
        "                      r\"qr\\.ae|adf\\.ly|goo\\.gl|bitly\\.com|cur\\.lv|tinyurl\\.com|ow\\.ly|bit\\.ly|ity\\.im|q\\.gs|is\\.gd|\" \\\n",
        "                      r\"po\\.st|bc\\.vc|twitthis\\.com|u\\.to|j\\.mp|buzurl\\.com|cutt\\.us|u\\.bb|yourls\\.org|x\\.co|\" \\\n",
        "                      r\"prettylinkpro\\.com|scrnchS\\.me|filoops\\.info|vzturl\\.com|qr\\.net|1url\\.com|tweez\\.me|v\\.gd|\" \\\n",
        "                      r\"tr\\.im|link\\.zip\\.net\""
      ]
    },
    {
      "cell_type": "code",
      "execution_count": null,
      "metadata": {
        "id": "91HvmAev9Dbs"
      },
      "outputs": [],
      "source": [
        "# 8. Checking for Shortening Services in URL (Tiny_URL)\n",
        "def tinyURL(url):\n",
        "    match=re.search(shortening_services,url)\n",
        "    if match:\n",
        "        return 1\n",
        "    else:\n",
        "        return 0"
      ]
    },
    {
      "cell_type": "code",
      "execution_count": null,
      "metadata": {
        "id": "Q4Av6oi29OMe"
      },
      "outputs": [],
      "source": [
        "def count_hyphens(url):\n",
        "    urld =  url.split('/')[0]\n",
        "    return urld.count('-')"
      ]
    },
    {
      "cell_type": "markdown",
      "metadata": {
        "id": "9eS1CU3DZnC5"
      },
      "source": [
        "### change in url depth"
      ]
    },
    {
      "cell_type": "code",
      "execution_count": null,
      "metadata": {
        "colab": {
          "base_uri": "https://localhost:8080/"
        },
        "id": "VQsmIhuo5XiV",
        "outputId": "f3a66c4c-845b-49c4-d8c5-8fa3ee42068d"
      },
      "outputs": [
        {
          "name": "stdout",
          "output_type": "stream",
          "text": [
            "has_ip                          0\n",
            "special_and_numbers_count       7\n",
            "depth                           3\n",
            "shortened_url                   0\n",
            "hyphen_count                    0\n",
            "url_length                   20.0\n",
            "Name: 0, dtype: object\n"
          ]
        }
      ],
      "source": [
        "import pandas as pd\n",
        "from sklearn.preprocessing import MinMaxScaler\n",
        "import re\n",
        "\n",
        "new_url = \"s18p3x76.duckdns.org\"\n",
        "tdf = pd.DataFrame(columns=[\"has_ip\",\"special_and_numbers_count\",\"depth\",\"shortened_url\",\"hyphen_count\"])\n",
        "\n",
        "ip_pattern = r'\\b(?:[0-9]{1,3}\\.){3}[0-9]{1,3}\\b'\n",
        "\n",
        "# Check if the URL contains an IP address pattern\n",
        "tdf.loc[0, 'has_ip'] = int(bool(re.search(ip_pattern, new_url)))\n",
        "\n",
        "tdf.loc[0, 'special_and_numbers_count'] = sum(not c.isalpha() for c in new_url)\n",
        "\n",
        "tdf.loc[0, 'url_length'] = len(new_url)\n",
        "\n",
        "var = getDepth(new_url)\n",
        "tdf.loc[0, 'depth'] = var\n",
        "\n",
        "# tdf.loc[0, 'redirection'] = redirection(new_url)\n",
        "\n",
        "tdf.loc[0, 'shortened_url'] = tinyURL(new_url)\n",
        "\n",
        "tdf.loc[0, 'hyphen_count'] = count_hyphens(new_url)\n",
        "\n",
        "\n",
        "print(tdf.iloc[0])\n",
        "\n",
        "# # Normalization using MinMaxScaler\n",
        "# scaler = MinMaxScaler()\n",
        "# tdf[['special_and_numbers_count', 'url_length', 'depth','hyphen_count']] = scaler.fit_transform(tdf[['special_and_numbers_count', 'url_length', 'depth','hyphen_count']])"
      ]
    },
    {
      "cell_type": "code",
      "execution_count": null,
      "metadata": {
        "id": "5oEbTKWwZHUY"
      },
      "outputs": [],
      "source": [
        "def preprocess(new_url):\n",
        "  # Preprocessing steps\n",
        "  # Replace less frequent characters with '<UNK>'\n",
        "  for char in new_url:\n",
        "      if char not in unique_characters:\n",
        "          new_url = new_url.replace(char, '<UNK>')\n",
        "\n",
        "  # Tokenize the new URL\n",
        "  new_url_sequence = tokenizer.texts_to_sequences([new_url])\n",
        "\n",
        "  # Pad the sequence to the same length as the training data\n",
        "  new_url_padded = pad_sequences(new_url_sequence, maxlen=50, padding='post', truncating='post')\n",
        "  return new_url_padded"
      ]
    },
    {
      "cell_type": "code",
      "execution_count": null,
      "metadata": {
        "id": "M7_xeKrbzTmJ"
      },
      "outputs": [],
      "source": [
        "# Import necessary libraries\n",
        "from sklearn.feature_extraction.text import CountVectorizer\n",
        "\n",
        "def getngram(new_url):\n",
        "\n",
        "  # Define the n-gram range and maximum number of features\n",
        "  ngram_range = (2, 5)  # Consider n-grams of length 2 to 5\n",
        "  max_features = 1000  # Maximum number of features\n",
        "\n",
        "  # Initialize CountVectorizer to extract n-grams\n",
        "  vectorizer = CountVectorizer(analyzer='char', ngram_range=ngram_range, max_features=max_features)\n",
        "\n",
        "  # Convert the new URL to a list of strings\n",
        "  new_url_list = [new_url]\n",
        "\n",
        "  # Fit the vectorizer on your training data\n",
        "  vectorizer.fit(X_train_list)\n",
        "\n",
        "  # Transform the new URL into n-gram representation using the fitted CountVectorizer\n",
        "  new_url_ngram = vectorizer.transform(new_url_list)\n",
        "\n",
        "  # Convert the sparse matrix to a dense array\n",
        "  new_url_ngram = new_url_ngram.toarray()\n",
        "\n",
        "  # Print the shape of the n-gram matrix\n",
        "  print(\"Shape of new_url_ngram:\", new_url_ngram.shape)\n",
        "  return new_url_ngram\n"
      ]
    },
    {
      "cell_type": "code",
      "execution_count": null,
      "metadata": {
        "id": "tNl69g3SQElY"
      },
      "outputs": [],
      "source": [
        "def get_domain(url):\n",
        "    parsed_url = urlparse(url if '://' in url else 'http://' + url.strip())\n",
        "    return parsed_url.netloc\n"
      ]
    },
    {
      "cell_type": "code",
      "execution_count": null,
      "metadata": {
        "id": "Q2xzlV1iZvT-"
      },
      "outputs": [],
      "source": [
        "# from tensorflow.keras.layers import Input, Embedding, Conv1D, MaxPooling1D, Concatenate, Flatten, Dense, Dropout, Reshape\n",
        "# from tensorflow.keras.models import Model\n",
        "\n",
        "# # Make predictions\n",
        "# def predict(new_url):\n",
        "#   url_dom = get_domain(new_url)\n",
        "#   new_url_padded = preprocess(url_dom)\n",
        "#   new_url_ngram = getngram(url_dom)\n",
        "#   new_url_padded = np.array(new_url_padded)\n",
        "#   new_url_ngram = np.array(new_url_ngram)\n",
        "#   max_sequence_length_char = 40\n",
        "#   tdf_values = [tdf.values.tolist()[0]]\n",
        "#   tdf_values = np.array(tdf_values)\n",
        "\n",
        "#   # max_sequence_length_ngram = len(vectorizer.vocabulary_)\n",
        "#   # embedding_dim = 32 #16\n",
        "#   # num_filters = 128\n",
        "#   # filter_sizes = [3,4,5]\n",
        "\n",
        "#   # char_data = np.array([new_url_padded])  # Assuming single sample\n",
        "#   # ngram_data = np.array([new_url_ngram])  # Assuming single sample\n",
        "\n",
        "#   # # Step 3: Pass Input Data through Embedding Layers\n",
        "#   # embedded_char_data = embedding_layer_char(char_data)\n",
        "#   # embedded_ngram_data = embedding_layer_ngram(ngram_data)\n",
        "\n",
        "#   # # Convolutional blocks for character embedding\n",
        "#   # conv_blocks_char = []\n",
        "#   # for filter_size in filter_sizes:\n",
        "#   #     conv_layer = Conv1D(filters=num_filters, kernel_size=filter_size, activation='relu')(embedding_layer_char)\n",
        "#   #     maxpool_layer = MaxPooling1D(pool_size=max_sequence_length_char - filter_size + 1)(conv_layer)\n",
        "#   #     conv_blocks_char.append(maxpool_layer)\n",
        "\n",
        "#   # # Convolutional blocks for n-gram embedding\n",
        "#   # conv_blocks_ngram = []\n",
        "#   # for filter_size in filter_sizes:\n",
        "#   #     conv_layer = Conv1D(filters=num_filters, kernel_size=filter_size, activation='relu')(embedding_layer_ngram)\n",
        "#   #     maxpool_layer = MaxPooling1D(pool_size=max_sequence_length_ngram - filter_size + 1)(conv_layer)\n",
        "#   #     conv_blocks_ngram.append(maxpool_layer)\n",
        "\n",
        "#   # # Concatenate the outputs from different filter sizes for both character and n-gram embeddings\n",
        "#   # concatenated_char = Concatenate()(conv_blocks_char)\n",
        "#   # concatenated_ngram = Concatenate()(conv_blocks_ngram)\n",
        "\n",
        "\n",
        "#   # # Concatenate the outputs from character and n-gram embeddings\n",
        "#   # concatenated_output = Concatenate()([concatenated_char, concatenated_ngram,tdf_values])\n",
        "\n",
        "#   # attention_output = AttentionLayer()(concatenated_output)\n",
        "\n",
        "\n",
        "#   # prediction = loaded_model.predict(attention_output)\n",
        "\n",
        "#   prediction = loaded_model.predict([new_url_padded,new_url_ngram,tdf_values])\n",
        "\n",
        "#   binary_prediction = (prediction > 0.5).astype(int)\n",
        "#   print(new_url)\n",
        "#   print(prediction)\n",
        "#   print(binary_prediction)\n",
        "#   print(\"Predicted Class:\", \"Malicious\" if binary_prediction == 1 else \"Benign\")"
      ]
    },
    {
      "cell_type": "code",
      "execution_count": null,
      "metadata": {
        "id": "cejjhrdTafZX"
      },
      "outputs": [],
      "source": [
        "# Make predictions\n",
        "def predict(new_url):\n",
        "  new_url_padded = preprocess(new_url)\n",
        "  new_url_ngram = getngram(new_url)\n",
        "  tdf_values = [tdf.values.tolist()[0]]\n",
        "  new_url_padded = np.array(new_url_padded)\n",
        "  new_url_ngram = np.array(new_url_ngram)\n",
        "  tdf_values = np.array(tdf_values)\n",
        "  print(tdf_values)\n",
        "\n",
        "  prediction = loaded_model.predict([new_url_padded,new_url_ngram,tdf_values])\n",
        "\n",
        "  binary_prediction = (prediction > 0.5).astype(int)\n",
        "  print(new_url)\n",
        "  print(prediction)\n",
        "  print(binary_prediction)\n",
        "  print(\"Predicted Class:\", \"Malicious\" if binary_prediction == 1 else \"Benign\")"
      ]
    },
    {
      "cell_type": "code",
      "execution_count": null,
      "metadata": {
        "colab": {
          "base_uri": "https://localhost:8080/"
        },
        "id": "1WjiFlkvN7Z1",
        "outputId": "1a02644f-4346-4617-9392-1869ebc92b00"
      },
      "outputs": [
        {
          "name": "stdout",
          "output_type": "stream",
          "text": [
            "Shape of new_url_ngram: (1, 1000)\n",
            "[[ 0.  7.  3.  0.  0. 20.]]\n",
            "1/1 [==============================] - 0s 20ms/step\n",
            "s18p3x76.duckdns.org\n",
            "[[1.]]\n",
            "[[1]]\n",
            "Predicted Class: Malicious\n"
          ]
        }
      ],
      "source": [
        "predict(\"s18p3x76.duckdns.org\")"
      ]
    }
  ],
  "metadata": {
    "accelerator": "GPU",
    "colab": {
      "provenance": [],
      "include_colab_link": true
    },
    "kernelspec": {
      "display_name": "Python 3",
      "name": "python3"
    },
    "language_info": {
      "name": "python"
    }
  },
  "nbformat": 4,
  "nbformat_minor": 0
}